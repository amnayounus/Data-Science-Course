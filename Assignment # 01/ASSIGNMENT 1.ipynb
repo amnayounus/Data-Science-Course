{
 "cells": [
  {
   "cell_type": "code",
   "execution_count": 1,
   "id": "3a602c4d",
   "metadata": {},
   "outputs": [
    {
     "name": "stdout",
     "output_type": "stream",
     "text": [
      "Twinkle, twinkle, little star,\n",
      "         How I wonder what you are!\n",
      "                Up above the world so high,\n",
      "                Like a diamond in the sky.\n",
      "Twinkle, twinkle, little star,\n",
      "         How I wonder what you are\n"
     ]
    }
   ],
   "source": [
    "#Q1\n",
    "print(\"Twinkle, twinkle, little star,\");\n",
    "print(\"         How I wonder what you are!\");\n",
    "print(\"                Up above the world so high,\");\n",
    "print(\"                Like a diamond in the sky.\");\n",
    "print(\"Twinkle, twinkle, little star,\");\n",
    "print(\"         How I wonder what you are\");"
   ]
  },
  {
   "cell_type": "code",
   "execution_count": 2,
   "id": "9e9dff49",
   "metadata": {},
   "outputs": [
    {
     "name": "stdout",
     "output_type": "stream",
     "text": [
      "Your Python version is:  3.9.7 (default, Sep 16 2021, 16:58:32) [MSC v.1916 32 bit (Intel)]\n"
     ]
    }
   ],
   "source": [
    "#Q2\n",
    "import sys;\n",
    "print(\"Your Python version is: \", sys.version)"
   ]
  },
  {
   "cell_type": "code",
   "execution_count": 3,
   "id": "e36604a4",
   "metadata": {},
   "outputs": [
    {
     "name": "stdout",
     "output_type": "stream",
     "text": [
      "CURRENT DATE AND TIME IS: 2021-12-31 18:38:14.395975\n"
     ]
    }
   ],
   "source": [
    "#Q3\n",
    "import datetime;  \n",
    "date_time = datetime.datetime.now();\n",
    "print(\"CURRENT DATE AND TIME IS:\", date_time );"
   ]
  },
  {
   "cell_type": "code",
   "execution_count": 4,
   "id": "ed6b3f6c",
   "metadata": {},
   "outputs": [
    {
     "name": "stdout",
     "output_type": "stream",
     "text": [
      "Enter the radius of a circle: 2\n",
      "12.56\n"
     ]
    }
   ],
   "source": [
    "#Q4\n",
    "pi = 3.14;\n",
    "r = float(input( \"Enter the radius of a circle: \" ));\n",
    "area = pi * r * r;\n",
    "print(area);"
   ]
  },
  {
   "cell_type": "code",
   "execution_count": 5,
   "id": "a90fb86b",
   "metadata": {},
   "outputs": [
    {
     "name": "stdout",
     "output_type": "stream",
     "text": [
      "Enter your First Name : amna\n",
      "Enter your Last Name : younus\n",
      "younus   amna\n"
     ]
    }
   ],
   "source": [
    "#Q5\n",
    "fname = input(\"Enter your First Name : \");\n",
    "lname = input(\"Enter your Last Name : \");\n",
    "print (lname , \" \" , fname);"
   ]
  },
  {
   "cell_type": "code",
   "execution_count": 6,
   "id": "6fcae6d1",
   "metadata": {},
   "outputs": [
    {
     "name": "stdout",
     "output_type": "stream",
     "text": [
      "Enter value 1 2\n",
      "Enter value 2 4\n",
      "6\n"
     ]
    }
   ],
   "source": [
    "#Q6\n",
    "a = int(input( \"Enter value 1 \" ));\n",
    "b = int(input( \"Enter value 2 \" ));\n",
    "print(a + b)"
   ]
  },
  {
   "cell_type": "code",
   "execution_count": null,
   "id": "bc2a8f22",
   "metadata": {},
   "outputs": [],
   "source": []
  }
 ],
 "metadata": {
  "kernelspec": {
   "display_name": "Python 3 (ipykernel)",
   "language": "python",
   "name": "python3"
  },
  "language_info": {
   "codemirror_mode": {
    "name": "ipython",
    "version": 3
   },
   "file_extension": ".py",
   "mimetype": "text/x-python",
   "name": "python",
   "nbconvert_exporter": "python",
   "pygments_lexer": "ipython3",
   "version": "3.9.7"
  }
 },
 "nbformat": 4,
 "nbformat_minor": 5
}
